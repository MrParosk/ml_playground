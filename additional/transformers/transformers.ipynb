{
 "cells": [
  {
   "cell_type": "code",
   "execution_count": 1,
   "metadata": {},
   "outputs": [],
   "source": [
    "import math\n",
    "\n",
    "import numpy as np\n",
    "import matplotlib.pyplot as plt\n",
    "\n",
    "import torch\n",
    "import torch.nn as nn\n",
    "import torch.nn.functional as F\n",
    "from torch.utils.data import Dataset, DataLoader\n",
    "from torch import optim\n",
    "\n",
    "\n",
    "class Attention(nn.Module):\n",
    "    def __init__(self, d_k):\n",
    "        super().__init__()\n",
    "        self.d_k = d_k\n",
    "\n",
    "    def forward(self, Q, K, V):\n",
    "        \"\"\"\n",
    "        Input of dim: [batch, time_dim, input_dim]\n",
    "        \"\"\"\n",
    "\n",
    "        output = torch.zeros_like(Q)\n",
    "\n",
    "        # should be vectorized, keeping it like this for simplicity\n",
    "        for b in range(Q.size()[0]):\n",
    "            v = Q[b] @ K[b].T / math.sqrt(self.d_k)\n",
    "            v = F.softmax(v, dim=1)\n",
    "            v = v @ V[b]\n",
    "            output[b] = v\n",
    "\n",
    "        return output\n",
    "\n",
    "    \n",
    "class GELU(nn.Module):\n",
    "    \"\"\"\n",
    "    Reference: Gaussian Error Linear Units (GELU) paper: https://arxiv.org/abs/1606.08415\n",
    "    \"\"\"\n",
    "    def forward(self, x):\n",
    "        return 0.5 * x * (1.0 + torch.tanh(math.sqrt(2.0 / math.pi) * (x + 0.044715 * torch.pow(x, 3.0))))"
   ]
  },
  {
   "cell_type": "code",
   "execution_count": 31,
   "metadata": {},
   "outputs": [],
   "source": [
    "class Block(nn.Module):\n",
    "    def __init__(self, dim_size, device=\"cuda\"):\n",
    "        super().__init__()\n",
    "        self.attention = Attention(d_k=dim_size)\n",
    "        self.linear = nn.Linear(dim_size, dim_size, device=device)\n",
    "        self.norm = GELU()\n",
    "\n",
    "    def forward(self, X):\n",
    "        v = self.attention(X, X, X)\n",
    "        v = self.norm(X + v)\n",
    "\n",
    "        linear_list = []\n",
    "        # should be vectorized, keeping it like this for simplicity\n",
    "        for b in range(X.size(0)):\n",
    "            linear_list.append(self.linear(v[b]).unsqueeze(0))\n",
    "        v = torch.concat(linear_list)\n",
    "\n",
    "        v = self.norm(v)\n",
    "\n",
    "        return v"
   ]
  },
  {
   "cell_type": "code",
   "execution_count": 32,
   "metadata": {},
   "outputs": [],
   "source": [
    "class Transformer(nn.Module):\n",
    "    def __init__(self, num_blocks, in_dim, feature_dim):\n",
    "        super().__init__()\n",
    "        self.blocks = []\n",
    "        for _ in range(num_blocks):\n",
    "            self.blocks.append(Block(feature_dim))\n",
    "\n",
    "        self.feature_dim = feature_dim\n",
    "        self.input_linear = nn.Linear(in_dim, feature_dim)\n",
    "        self.output_linear = nn.Linear(feature_dim, 1)\n",
    "\n",
    "    def forward(self, x):\n",
    "        \"\"\"\n",
    "        Input of dim: [batch, time_dim, input_dim]\n",
    "        \"\"\"\n",
    "        v = torch.zeros(x.size(0), x.size(1), self.feature_dim, dtype=torch.float32, device=x.device)\n",
    "\n",
    "        linear_list = []\n",
    "        # should be vectorized, keeping it like this for simplicity\n",
    "        for b in range(x.size(0)):\n",
    "            linear_list.append(self.input_linear(x[b]).unsqueeze(0))\n",
    "        v = torch.concat(linear_list)\n",
    "\n",
    "        for block in self.blocks:\n",
    "            v = block(v)\n",
    "\n",
    "        v = torch.mean(v, dim=1)\n",
    "        o = self.output_linear(v)\n",
    "\n",
    "        return o"
   ]
  },
  {
   "cell_type": "code",
   "execution_count": 33,
   "metadata": {},
   "outputs": [
    {
     "data": {
      "text/plain": [
       "torch.Size([2, 1])"
      ]
     },
     "execution_count": 33,
     "metadata": {},
     "output_type": "execute_result"
    }
   ],
   "source": [
    "model = Transformer(num_blocks=2, in_dim=1, feature_dim=64).to(\"cuda\")\n",
    "\n",
    "X = torch.rand(2, 5, 1).to(\"cuda\")\n",
    "o = model.forward(X)\n",
    "o.shape"
   ]
  },
  {
   "cell_type": "code",
   "execution_count": 34,
   "metadata": {},
   "outputs": [],
   "source": [
    "def function_to_approximate(t):\n",
    "    return 3 * np.sin(10 * t) - 2 * np.cos(-1 * t) + np.sin(10 * t) * np.cos(5 * t)\n",
    "\n",
    "\n",
    "def generate_sample(max_time_diff, time_size):\n",
    "        diff = np.random.uniform(0, max_time_diff)\n",
    "        start = np.random.randint(0, 10)\n",
    "\n",
    "        t = diff * (start + np.arange(0, time_size))\n",
    "\n",
    "        y = function_to_approximate(t)\n",
    "        y = y + np.random.normal(0.0, 0.1, size=time_size)\n",
    "        return t, y\n",
    "\n",
    "\n",
    "class WaveDataset(Dataset):\n",
    "    def __init__(self, max_time_diff=1.0, num_samples_per_batch=1024, time_size=16):\n",
    "        self.num_samples_per_batch = num_samples_per_batch\n",
    "        self.max_time_diff = max_time_diff\n",
    "        self.time_size = time_size\n",
    "\n",
    "    def __len__(self):\n",
    "        return self.num_samples_per_batch\n",
    "    \n",
    "    def __getitem__(self, _):\n",
    "        _, samples = generate_sample(self.max_time_diff, self.time_size)\n",
    "        samples = torch.from_numpy(samples)\n",
    "\n",
    "        x = samples[0:(self.time_size - 1)].unsqueeze(1).type(torch.float32)\n",
    "\n",
    "        # predict the last samples\n",
    "        y = samples[self.time_size - 1].unsqueeze(-1).type(torch.float32)\n",
    "        return x, y"
   ]
  },
  {
   "cell_type": "code",
   "execution_count": 35,
   "metadata": {},
   "outputs": [
    {
     "data": {
      "image/png": "[encoded data removed]",
      "text/plain": [
       "<Figure size 640x480 with 1 Axes>"
      ]
     },
     "metadata": {},
     "output_type": "display_data"
    }
   ],
   "source": [
    "t_gt = np.linspace(0, 3.0, num=100)\n",
    "y_gt = function_to_approximate(t_gt)\n",
    "\n",
    "plt.scatter(t_gt, y_gt, c=\"r\", label=\"function to approximate\", alpha=0.5)\n",
    "plt.legend()\n",
    "plt.show()"
   ]
  },
  {
   "cell_type": "code",
   "execution_count": 36,
   "metadata": {},
   "outputs": [],
   "source": [
    "batch_size = 128\n",
    "train_dataset = WaveDataset()\n",
    "train_dataloader = DataLoader(train_dataset, batch_size=batch_size, num_workers=0)\n",
    "\n",
    "val_dataset = WaveDataset()\n",
    "val_dataloader = DataLoader(val_dataset, batch_size=batch_size, num_workers=0)"
   ]
  },
  {
   "cell_type": "code",
   "execution_count": 37,
   "metadata": {},
   "outputs": [],
   "source": [
    "seed = 42\n",
    "num_epochs = 20\n",
    "lr = 1e-3\n",
    "optimizer = optim.AdamW(model.parameters(), lr=lr)"
   ]
  },
  {
   "cell_type": "code",
   "execution_count": 38,
   "metadata": {},
   "outputs": [
    {
     "name": "stdout",
     "output_type": "stream",
     "text": [
      "----------- Epoch 0 -----------\n",
      "Train loss: 0.05088800564408302\n",
      "Val loss: 0.053375903982669115\n",
      "----------- Epoch 5 -----------\n",
      "Train loss: 0.05261254357174039\n",
      "Val loss: 0.05594276450574398\n",
      "----------- Epoch 10 -----------\n",
      "Train loss: 0.05131073668599129\n",
      "Val loss: 0.0525585999712348\n",
      "----------- Epoch 15 -----------\n",
      "Train loss: 0.050508211832493544\n",
      "Val loss: 0.04992994898930192\n",
      "----------- Epoch 19 -----------\n",
      "Train loss: 0.05215902952477336\n",
      "Val loss: 0.054550386033952236\n"
     ]
    }
   ],
   "source": [
    "np.random.seed(seed)\n",
    "torch.manual_seed(seed)\n",
    "\n",
    "for epoch in range(num_epochs):\n",
    "    train_loss = 0.0\n",
    "\n",
    "    model.train()\n",
    "    for _, (x, y) in enumerate(train_dataloader):\n",
    "        optimizer.zero_grad()\n",
    "\n",
    "        x = x.to(\"cuda\")\n",
    "        y = y.to(\"cuda\")\n",
    "\n",
    "        y_hat = model(x)\n",
    "        batch_loss = F.mse_loss(y_hat, y)\n",
    "        batch_loss.backward()\n",
    "        optimizer.step()\n",
    "\n",
    "        batch_loss = batch_loss.detach().cpu().numpy()\n",
    "        train_loss += batch_loss / len(y)\n",
    "\n",
    "    train_loss = train_loss / len(train_dataloader)\n",
    "\n",
    "    val_loss = 0.0\n",
    "\n",
    "    model.eval()\n",
    "    for _, (x, y) in enumerate(val_dataloader):\n",
    "        x = x.to(\"cuda\")\n",
    "        y = y.to(\"cuda\")\n",
    "\n",
    "        y_hat = model(x)\n",
    "        batch_loss = F.mse_loss(y_hat, y)\n",
    "\n",
    "        batch_loss = batch_loss.detach().cpu().numpy()\n",
    "        val_loss += batch_loss / len(y)\n",
    "\n",
    "    val_loss = val_loss / len(val_dataloader)\n",
    "\n",
    "    if epoch % 5 == 0 or epoch == (num_epochs - 1):\n",
    "        print(f\"----------- Epoch {epoch} -----------\")\n",
    "        print(f\"Train loss: {train_loss}\")\n",
    "        print(f\"Val loss: {val_loss}\")"
   ]
  },
  {
   "cell_type": "code",
   "execution_count": null,
   "metadata": {},
   "outputs": [],
   "source": []
  }
 ],
 "metadata": {
  "interpreter": {
   "hash": "c55d350f05ee47418812471b2f594cc903696925f6194dbd985a6ecbc43239ac"
  },
  "kernelspec": {
   "display_name": "Python 3.9.10 ('.venv': venv)",
   "language": "python",
   "name": "python3"
  },
  "language_info": {
   "codemirror_mode": {
    "name": "ipython",
    "version": 3
   },
   "file_extension": ".py",
   "mimetype": "text/x-python",
   "name": "python",
   "nbconvert_exporter": "python",
   "pygments_lexer": "ipython3",
   "version": "3.9.10"
  },
  "orig_nbformat": 4
 },
 "nbformat": 4,
 "nbformat_minor": 2
}
