{
 "cells": [
  {
   "cell_type": "code",
   "execution_count": 1,
   "metadata": {},
   "outputs": [],
   "source": [
    "import math\n",
    "import torch\n",
    "import torch.nn as nn\n",
    "import torch.nn.functional as F\n",
    "\n",
    "class Attention(nn.Module):\n",
    "    def __init__(self, d_k):\n",
    "        super().__init__()\n",
    "        self.d_k = d_k\n",
    "\n",
    "    def forward(self, Q, K, V):\n",
    "        \"\"\"\n",
    "        Input of dim: [batch, time_dim, input_dim]\n",
    "        \"\"\"\n",
    "\n",
    "        output = torch.zeros_like(Q)\n",
    "\n",
    "        # should be vectorized, keeping it like this for simplicity\n",
    "        for b in range(Q.size()[0]):\n",
    "            v = Q[b] @ K[b].T / math.sqrt(self.d_k)\n",
    "            v = F.softmax(v, dim=1)\n",
    "            v = v @ V[b]\n",
    "            output[b] = v\n",
    "\n",
    "        return output\n",
    "\n",
    "    \n",
    "class GELU(nn.Module):\n",
    "    \"\"\"\n",
    "    Reference: Gaussian Error Linear Units (GELU) paper: https://arxiv.org/abs/1606.08415\n",
    "    \"\"\"\n",
    "    def forward(self, x):\n",
    "        return 0.5 * x * (1.0 + torch.tanh(math.sqrt(2.0 / math.pi) * (x + 0.044715 * torch.pow(x, 3.0))))"
   ]
  },
  {
   "cell_type": "code",
   "execution_count": 2,
   "metadata": {},
   "outputs": [],
   "source": [
    "class Block(nn.Module):\n",
    "    def __init__(self, dim_size):\n",
    "        super().__init__()\n",
    "        self.attention = Attention(d_k=dim_size)\n",
    "        self.linear = nn.Linear(dim_size, dim_size)\n",
    "        self.norm = GELU()\n",
    "    \n",
    "    def forward(self, X):\n",
    "        v = self.attention(X, X, X)\n",
    "        v = self.norm(X + v)\n",
    "\n",
    "        # should be vectorized, keeping it like this for simplicity\n",
    "        for b in range(X.size(0)):\n",
    "            v[b] += self.linear(v[b])\n",
    "\n",
    "        v = self.norm(v)\n",
    "\n",
    "        return v"
   ]
  },
  {
   "cell_type": "code",
   "execution_count": 3,
   "metadata": {},
   "outputs": [],
   "source": [
    "class Transformer(nn.Module):\n",
    "    def __init__(self, num_blocks, in_dim, feature_dim):\n",
    "        super().__init__()\n",
    "        self.blocks = []\n",
    "        for _ in range(num_blocks):\n",
    "            self.blocks.append(Block(feature_dim))\n",
    "\n",
    "        self.feature_dim = feature_dim\n",
    "        self.input_linear = nn.Linear(in_dim, feature_dim)\n",
    "        self.output_linear = nn.Linear(feature_dim, 1)\n",
    "\n",
    "    def forward(self, x):\n",
    "        \"\"\"\n",
    "        Input of dim: [batch, time_dim, input_dim]\n",
    "        \"\"\"\n",
    "        v = torch.zeros(x.size(0), x.size(1), self.feature_dim)\n",
    "\n",
    "        # should be vectorized, keeping it like this for simplicity\n",
    "        for b in range(x.size(0)):\n",
    "            v[b] = self.input_linear(x[b])\n",
    "\n",
    "        for block in self.blocks:\n",
    "            v = block(v)\n",
    "        \n",
    "        v = torch.mean(v, dim=1)\n",
    "        o = self.output_linear(v)\n",
    "\n",
    "        return o"
   ]
  },
  {
   "cell_type": "code",
   "execution_count": 4,
   "metadata": {},
   "outputs": [
    {
     "name": "stderr",
     "output_type": "stream",
     "text": [
      "/home/erik/code/git/ml_playground/additional/transformers/.venv/lib/python3.9/site-packages/torch/nn/modules/linear.py:96: UserWarning: Failed to initialize NumPy: No module named 'numpy' (Triggered internally at ../torch/csrc/utils/tensor_numpy.cpp:77.)\n",
      "  self.weight = Parameter(torch.empty((out_features, in_features), **factory_kwargs))\n"
     ]
    },
    {
     "data": {
      "text/plain": [
       "torch.Size([2, 1])"
      ]
     },
     "execution_count": 4,
     "metadata": {},
     "output_type": "execute_result"
    }
   ],
   "source": [
    "t = Transformer(num_blocks=2, in_dim=10, feature_dim=64)\n",
    "\n",
    "X = torch.rand(2, 5, 10)\n",
    "o = t.forward(X)\n",
    "o.shape"
   ]
  },
  {
   "cell_type": "code",
   "execution_count": null,
   "metadata": {},
   "outputs": [],
   "source": []
  }
 ],
 "metadata": {
  "interpreter": {
   "hash": "c55d350f05ee47418812471b2f594cc903696925f6194dbd985a6ecbc43239ac"
  },
  "kernelspec": {
   "display_name": "Python 3.9.10 ('.venv': venv)",
   "language": "python",
   "name": "python3"
  },
  "language_info": {
   "codemirror_mode": {
    "name": "ipython",
    "version": 3
   },
   "file_extension": ".py",
   "mimetype": "text/x-python",
   "name": "python",
   "nbconvert_exporter": "python",
   "pygments_lexer": "ipython3",
   "version": "3.9.10"
  },
  "orig_nbformat": 4
 },
 "nbformat": 4,
 "nbformat_minor": 2
}
