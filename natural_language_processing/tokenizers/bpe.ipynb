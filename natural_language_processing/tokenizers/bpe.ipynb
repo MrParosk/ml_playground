{
 "cells": [
  {
   "cell_type": "code",
   "execution_count": 1,
   "metadata": {},
   "outputs": [],
   "source": [
    "from array import array\n",
    "from collections import Counter"
   ]
  },
  {
   "cell_type": "code",
   "execution_count": 2,
   "metadata": {},
   "outputs": [],
   "source": [
    "s = \"hello world!!!? (안녕하세요!) lol123 😉 fffffffff\""
   ]
  },
  {
   "cell_type": "code",
   "execution_count": 3,
   "metadata": {},
   "outputs": [
    {
     "name": "stdout",
     "output_type": "stream",
     "text": [
      "[104, 101, 108, 108, 111, 32, 119, 111, 114, 108, 100, 33, 33, 33, 63, 32, 40, 236, 149, 136, 235, 133, 149, 237, 149, 152, 236, 132, 184, 236, 154, 148, 33, 41, 32, 108, 111, 108, 49, 50, 51, 32, 240, 159, 152, 137, 32, 102, 102, 102, 102, 102, 102, 102, 102, 102]\n"
     ]
    }
   ],
   "source": [
    "byte_list = list(s.encode(\"utf-8\"))\n",
    "print(byte_list)"
   ]
  },
  {
   "cell_type": "code",
   "execution_count": 4,
   "metadata": {},
   "outputs": [],
   "source": [
    "def create_pairs(l):\n",
    "    # Creating paris of consecutive elements\n",
    "    pairs = []\n",
    "    for a, b in zip(l, l[1:]):\n",
    "        pairs.append((a, b))\n",
    "    return pairs\n",
    "\n",
    "assert create_pairs([1, 2, 3, 4]) == [(1, 2), (2, 3), (3, 4)]"
   ]
  },
  {
   "cell_type": "code",
   "execution_count": 5,
   "metadata": {},
   "outputs": [
    {
     "name": "stdout",
     "output_type": "stream",
     "text": [
      "[(104, 101), (101, 108), (108, 108), (108, 111), (111, 32), (32, 119), (119, 111), (111, 114), (114, 108), (108, 100), (100, 33), (33, 33), (33, 33), (33, 63), (63, 32), (32, 40), (40, 236), (236, 149), (149, 136), (136, 235), (235, 133), (133, 149), (149, 237), (237, 149), (149, 152), (152, 236), (236, 132), (132, 184), (184, 236), (236, 154), (154, 148), (148, 33), (33, 41), (41, 32), (32, 108), (108, 111), (111, 108), (108, 49), (49, 50), (50, 51), (51, 32), (32, 240), (240, 159), (159, 152), (152, 137), (137, 32), (32, 102), (102, 102), (102, 102), (102, 102), (102, 102), (102, 102), (102, 102), (102, 102), (102, 102)]\n"
     ]
    }
   ],
   "source": [
    "byte_pairs = create_pairs(byte_list)\n",
    "print(byte_pairs)"
   ]
  },
  {
   "cell_type": "code",
   "execution_count": 6,
   "metadata": {},
   "outputs": [],
   "source": [
    "def replace(byte_list, idx, pair_to_replace):\n",
    "    # replaces all consecutive pair that are equivalent to pair_to_replace with the value idx\n",
    "    ptr = 0\n",
    "    new_tokens = []\n",
    "    while ptr < len(byte_list):\n",
    "        current_pair = tuple(byte_list[ptr:(ptr+2)])\n",
    "        if current_pair == pair_to_replace:\n",
    "            new_tokens.append(idx)\n",
    "            ptr += 2\n",
    "        else:\n",
    "            new_tokens.append(byte_list[ptr])\n",
    "            ptr += 1\n",
    "\n",
    "    return new_tokens\n",
    "\n",
    "\n",
    "def merge(byte_list, idx, merges):\n",
    "    # Create one merge, i.e. take the most common pair and replace those paris with idx\n",
    "    byte_pairs = create_pairs(byte_list)\n",
    "    most_common_pair, _ = Counter(byte_pairs).most_common(n=1)[0]\n",
    "    merges[most_common_pair] = idx\n",
    "\n",
    "    return replace(byte_list, idx, most_common_pair)\n",
    "\n",
    "\n",
    "assert replace([3, 2, 5, 9, 3, 2], 10, (3, 2)) == [10, 5, 9, 10]\n"
   ]
  },
  {
   "cell_type": "code",
   "execution_count": 7,
   "metadata": {},
   "outputs": [],
   "source": [
    "num_merges = 5\n",
    "idx = 256  # utf-8 has ids until 255 (1 byte), so starting after that\n",
    "new_tokens = byte_list[:]\n",
    "merges = {}\n",
    "\n",
    "for _ in range(num_merges):\n",
    "    new_tokens = merge(new_tokens, idx, merges)\n",
    "    idx += 1"
   ]
  },
  {
   "cell_type": "code",
   "execution_count": 8,
   "metadata": {},
   "outputs": [
    {
     "name": "stdout",
     "output_type": "stream",
     "text": [
      "Length before merge: 56\n",
      "Length after merge: 46\n"
     ]
    }
   ],
   "source": [
    "print(f\"Length before merge: {len(byte_list)}\")\n",
    "print(f\"Length after merge: {len(new_tokens)}\")"
   ]
  },
  {
   "cell_type": "code",
   "execution_count": 9,
   "metadata": {},
   "outputs": [
    {
     "name": "stdout",
     "output_type": "stream",
     "text": [
      "{(102, 102): 256, (256, 256): 257, (108, 111): 258, (33, 33): 259, (104, 101): 260}\n"
     ]
    }
   ],
   "source": [
    "print(merges)"
   ]
  },
  {
   "cell_type": "code",
   "execution_count": 10,
   "metadata": {},
   "outputs": [
    {
     "name": "stdout",
     "output_type": "stream",
     "text": [
      "46\n"
     ]
    }
   ],
   "source": [
    "def encode(byte_list, merges):\n",
    "    new_tokens = byte_list[:]\n",
    "\n",
    "    # This works since the elements was added to merges\n",
    "    # from most to least common\n",
    "    # Also, since python 3.7 dicts are ordered\n",
    "    for m_pair, idx in merges.items():\n",
    "        new_tokens = replace(new_tokens, idx, m_pair)\n",
    "\n",
    "    return new_tokens\n",
    "\n",
    "print(len(encode(byte_list, merges)))"
   ]
  },
  {
   "cell_type": "code",
   "execution_count": 11,
   "metadata": {},
   "outputs": [],
   "source": [
    "def decode(encoded_list, merges):\n",
    "    old_tokens = encoded_list[:]\n",
    "    for m_pair, idx in reversed(merges.items()):\n",
    "        new_tokens = []\n",
    "        for ot in old_tokens:\n",
    "            if ot == idx:\n",
    "                new_tokens.append(m_pair[0])\n",
    "                new_tokens.append(m_pair[1])\n",
    "            else:\n",
    "                new_tokens.append(ot)\n",
    "\n",
    "        old_tokens = new_tokens[:]\n",
    "    return old_tokens\n",
    "\n",
    "\n",
    "# [6, 5, 9] -> [6, 5, 1, 8]; 9 -> (1,8) \n",
    "# [6, 5, 9] -> [6, 5, 1, 1, 2]; 8 -> (1, 2)\n",
    "assert decode([6, 5, 9], {(1, 2): 8, (1, 8): 9}) == [6, 5, 1, 1, 2]"
   ]
  },
  {
   "cell_type": "code",
   "execution_count": 12,
   "metadata": {},
   "outputs": [],
   "source": [
    "encoded_list = encode(byte_list, merges)\n",
    "decoded_list = decode(encoded_list, merges)\n",
    "\n",
    "assert len(decoded_list) == len(byte_list)"
   ]
  },
  {
   "cell_type": "code",
   "execution_count": 13,
   "metadata": {},
   "outputs": [
    {
     "data": {
      "text/plain": [
       "'hello world!!!? (안녕하세요!) lol123 😉 fffffffff'"
      ]
     },
     "execution_count": 13,
     "metadata": {},
     "output_type": "execute_result"
    }
   ],
   "source": [
    "# Should get same string as original\n",
    "arr = array('B', decoded_list)\n",
    "arr.tobytes().decode(\"utf-8\")"
   ]
  }
 ],
 "metadata": {
  "kernelspec": {
   "display_name": ".venv",
   "language": "python",
   "name": "python3"
  },
  "language_info": {
   "codemirror_mode": {
    "name": "ipython",
    "version": 3
   },
   "file_extension": ".py",
   "mimetype": "text/x-python",
   "name": "python",
   "nbconvert_exporter": "python",
   "pygments_lexer": "ipython3",
   "version": "3.12.1"
  }
 },
 "nbformat": 4,
 "nbformat_minor": 2
}
